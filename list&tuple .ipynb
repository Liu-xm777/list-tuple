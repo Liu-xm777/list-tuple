{
 "cells": [
  {
   "cell_type": "code",
   "execution_count": 45,
   "id": "9bb13813",
   "metadata": {},
   "outputs": [],
   "source": [
    "num = [1,2,3]"
   ]
  },
  {
   "cell_type": "code",
   "execution_count": 46,
   "id": "5a46b73e",
   "metadata": {},
   "outputs": [
    {
     "name": "stdout",
     "output_type": "stream",
     "text": [
      "3\n"
     ]
    }
   ],
   "source": [
    "print(len(num))#建立一個數字串列並列印串列的長度"
   ]
  },
  {
   "cell_type": "code",
   "execution_count": 26,
   "id": "43106359",
   "metadata": {},
   "outputs": [
    {
     "name": "stdout",
     "output_type": "stream",
     "text": [
      "[1, 2, 3, 4]\n"
     ]
    }
   ],
   "source": [
    "num = [1,2,3,4]\n",
    "print(num) #在串列的末尾新增一個數字並再次列印串列"
   ]
  },
  {
   "cell_type": "code",
   "execution_count": 27,
   "id": "9d2485f9",
   "metadata": {},
   "outputs": [
    {
     "name": "stdout",
     "output_type": "stream",
     "text": [
      "[2, 3, 4]\n"
     ]
    }
   ],
   "source": [
    "num=[2,3,4]\n",
    "print(num)#從串列中移除第一個數字並再次列印串列"
   ]
  },
  {
   "cell_type": "code",
   "execution_count": 28,
   "id": "87ddbe4d",
   "metadata": {},
   "outputs": [
    {
     "name": "stdout",
     "output_type": "stream",
     "text": [
      "[2, 7, 25]\n"
     ]
    }
   ],
   "source": [
    "num = [2,25,7]\n",
    "num.sort()\n",
    "print(num)#將串列排序為升序並再次列印串列"
   ]
  },
  {
   "cell_type": "code",
   "execution_count": 30,
   "id": "9f275810",
   "metadata": {},
   "outputs": [
    {
     "name": "stdout",
     "output_type": "stream",
     "text": [
      "[35, 7, 2]\n"
     ]
    }
   ],
   "source": [
    "num =[2,35,7]\n",
    "num.sort(reverse=True)\n",
    "print(num)#反轉串列並再次列印串列"
   ]
  },
  {
   "cell_type": "code",
   "execution_count": 31,
   "id": "45881856",
   "metadata": {},
   "outputs": [
    {
     "data": {
      "text/plain": [
       "35"
      ]
     },
     "execution_count": 31,
     "metadata": {},
     "output_type": "execute_result"
    }
   ],
   "source": [
    "num=[2,35,7]\n",
    "num[1]#在串列中尋找一個數字的索引"
   ]
  },
  {
   "cell_type": "code",
   "execution_count": 32,
   "id": "69f3ef5a",
   "metadata": {},
   "outputs": [
    {
     "data": {
      "text/plain": [
       "True"
      ]
     },
     "execution_count": 32,
     "metadata": {},
     "output_type": "execute_result"
    }
   ],
   "source": [
    "num=[1,35,7]\n",
    "1 in num #檢查一個數字是否在串列中"
   ]
  },
  {
   "cell_type": "code",
   "execution_count": 34,
   "id": "9bdfffee",
   "metadata": {},
   "outputs": [
    {
     "data": {
      "text/plain": [
       "[2, 3]"
      ]
     },
     "execution_count": 34,
     "metadata": {},
     "output_type": "execute_result"
    }
   ],
   "source": [
    "num=[1,2,3,4,5]\n",
    "num[1:3]#取得串列的切片"
   ]
  },
  {
   "cell_type": "code",
   "execution_count": 35,
   "id": "396c568c",
   "metadata": {},
   "outputs": [
    {
     "name": "stdout",
     "output_type": "stream",
     "text": [
      "(1, 2, 3, 4)\n"
     ]
    }
   ],
   "source": [
    "nums=(1,2,3,4)\n",
    "print(nums)# 建立一個數字元組並列印元組"
   ]
  },
  {
   "cell_type": "code",
   "execution_count": 36,
   "id": "1488caa2",
   "metadata": {},
   "outputs": [
    {
     "data": {
      "text/plain": [
       "True"
      ]
     },
     "execution_count": 36,
     "metadata": {},
     "output_type": "execute_result"
    }
   ],
   "source": [
    "nums=(1,2,3,4,5)\n",
    "2 in nums #檢查一個數字是否在元組中"
   ]
  },
  {
   "cell_type": "code",
   "execution_count": 42,
   "id": "91db5e6f",
   "metadata": {},
   "outputs": [
    {
     "data": {
      "text/plain": [
       "(23, 4, 3)"
      ]
     },
     "execution_count": 42,
     "metadata": {},
     "output_type": "execute_result"
    }
   ],
   "source": [
    "nums=(1,23,4,3)\n",
    "nums[1:5] #取得元組的切片"
   ]
  },
  {
   "cell_type": "code",
   "execution_count": null,
   "id": "2eada0fc",
   "metadata": {},
   "outputs": [],
   "source": []
  }
 ],
 "metadata": {
  "kernelspec": {
   "display_name": "Python 3 (ipykernel)",
   "language": "python",
   "name": "python3"
  },
  "language_info": {
   "codemirror_mode": {
    "name": "ipython",
    "version": 3
   },
   "file_extension": ".py",
   "mimetype": "text/x-python",
   "name": "python",
   "nbconvert_exporter": "python",
   "pygments_lexer": "ipython3",
   "version": "3.11.4"
  }
 },
 "nbformat": 4,
 "nbformat_minor": 5
}
